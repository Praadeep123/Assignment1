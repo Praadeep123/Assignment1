{
 "cells": [
  {
   "cell_type": "markdown",
   "id": "af3b2f90-f8c2-4e6c-973a-98dd1c63eb0a",
   "metadata": {},
   "source": [
    "1. What does an empty dictionary's code look like?"
   ]
  },
  {
   "cell_type": "code",
   "execution_count": null,
   "id": "793d090c-8829-430d-93e3-f2c9b61f0794",
   "metadata": {},
   "outputs": [],
   "source": [
    "ans: pradeep_dict={}"
   ]
  },
  {
   "cell_type": "markdown",
   "id": "96880ab2-e00d-47ed-913d-62f183f43893",
   "metadata": {},
   "source": [
    "2. What is the value of a dictionary value with the key 'foo' and the value 42?"
   ]
  },
  {
   "cell_type": "markdown",
   "id": "8e1185cb-b4fd-45ce-8d87-7e1bdbfa011a",
   "metadata": {},
   "source": [
    "ans:my_dict={\"foo\":42}\n",
    "value_of_foo=my_dict['foo']\n",
    "print(value_of_foo)\n",
    "42"
   ]
  },
  {
   "cell_type": "markdown",
   "id": "46c5f6f8-80ff-4e03-84c6-89c6d71a31c0",
   "metadata": {},
   "source": [
    "3.What is the most significant distinction between a dictionary and a list?"
   ]
  },
  {
   "cell_type": "markdown",
   "id": "5b287792-f0f5-4c9e-8b9e-9fb209eb0b3f",
   "metadata": {},
   "source": [
    "ans:The most significant distinction between a dictionary and a list is how they store and access data. \n",
    "\n",
    "Dictionary:* Stores data in key-value pairs, allowing you to access values by their corresponding keys. Keys must be unique within the dictionary.\n",
    "List:* Stores data in an ordered sequence, allowing access to elements by their index position. Lists can contain duplicate values, \n",
    "and the order of elements is maintained."
   ]
  },
  {
   "cell_type": "markdown",
   "id": "3138590e-6de9-4dc2-a3df-5f6d489a0a32",
   "metadata": {},
   "source": [
    "4. What happens if you try to access spam['foo'] if spam is {'bar': 100}?"
   ]
  },
  {
   "cell_type": "markdown",
   "id": "e3bbb9bc-cf10-4e67-8aaa-000053cd1b56",
   "metadata": {},
   "source": [
    "ans4.spam={\"spam\":100}\n",
    "value=spam[\"foo\"]\n",
    "key error becausethe key\"foo\" does not exist in the dict spam."
   ]
  },
  {
   "cell_type": "markdown",
   "id": "6b09b005-0d4e-40bf-a40c-0ce6a80d448f",
   "metadata": {},
   "source": [
    "5. If a dictionary is stored in spam, what is the difference between the expressions 'cat' in spam and 'cat' in spam.keys()?"
   ]
  },
  {
   "cell_type": "markdown",
   "id": "4d59dd20-a099-4a79-9893-f65d102e0a51",
   "metadata": {},
   "source": [
    "spam={\"cat\":1}\n",
    "if \"cat\" in spam:\n",
    "    print(\"'cat' exist in this dictionary\")"
   ]
  },
  {
   "cell_type": "markdown",
   "id": "8b4e8f82-4d44-4a10-a2fd-ebd5cfde9ce7",
   "metadata": {},
   "source": [
    "spam={\"cat\":1}\n",
    "if 'cat' in spam.key(): \n",
    "    print(\"'cat' exist in the dict\")\n",
    "\n",
    "cat in spam:This expresion directly checks if the key cat exits in the dictionary spam.\n",
    "cat in spam.key{}:This expression first retrieves spam and then checks if cats exist among those keys>"
   ]
  },
  {
   "cell_type": "markdown",
   "id": "dd95c338-9fc6-4698-bbe1-70735528a4fb",
   "metadata": {},
   "source": [
    "6. If a dictionary is stored in spam, what is the difference between the expressions 'cat' in spam and 'cat' in spam.values()?"
   ]
  },
  {
   "cell_type": "markdown",
   "id": "27a0be2e-57d4-4adb-867b-b1ab9868af10",
   "metadata": {},
   "source": [
    "ans6,spam = {'a': 'cat', 'b': 'dog', 'c': 'bird'}\n",
    "\n",
    "# Check if 'cat' exists among the keys\n",
    "if 'cat' in spam:\n",
    "    print(\"'cat' exists among the keys in spam\")\n",
    "else:\n",
    "    print(\"'cat' does not exist among the keys in spam\")\n",
    "\n",
    "# Check if 'cat' exists among the values\n",
    "if 'cat' in spam.values():\n",
    "    print(\"'cat' exists among the values in spam\")\n",
    "else:\n",
    "    print(\"'cat' does not exist among the values in spam\")"
   ]
  },
  {
   "cell_type": "markdown",
   "id": "ec5b4a03-48df-45ad-9443-ebe48a3601e2",
   "metadata": {},
   "source": []
  },
  {
   "cell_type": "markdown",
   "id": "3a501aa1-1ebc-42d7-baab-3e14a6634858",
   "metadata": {},
   "source": [
    "7. What is a shortcut for the following code?\n",
    "if 'color' not in spam:\n",
    "spam['color'] = 'black'\n"
   ]
  },
  {
   "cell_type": "markdown",
   "id": "591a828b-41bc-4a7e-8116-ef8f4dc0f0cb",
   "metadata": {},
   "source": [
    "spam={\"colour\":\"black\",\"colour\":\"white\"}\n",
    "spam[\"color\"]=\"black\"\n",
    "value_of_color=spam[\"color\"]\n",
    "print(value_of_color)"
   ]
  },
  {
   "cell_type": "markdown",
   "id": "307c3ba8-4747-4ab2-a7f9-00d513efc81c",
   "metadata": {},
   "source": [
    "spam={\"colour\":\"black\",\"colour\":\"white\"}\n",
    "spam.setdefault(\"color\",\"black\")\n",
    "value_of_color=spam[\"color\"]\n",
    "print(value_of_color)"
   ]
  },
  {
   "cell_type": "markdown",
   "id": "c845a3c7-b810-48c1-ab12-61a6078d60cb",
   "metadata": {},
   "source": [
    "8. How do you \"pretty print\" dictionary values using which module and function?"
   ]
  },
  {
   "cell_type": "markdown",
   "id": "3dd412c1-8b8a-4495-983b-2c6f6fdc1f87",
   "metadata": {},
   "source": [
    "from pprint import pprint\n",
    "\n",
    "my_dict = {'key1': 'value1', 'key2': 'value2', 'key3': {'nested_key1': 'nested_value1', 'nested_key2': 'nested_value2'}}\n",
    "\n",
    "pprint(my_dict)"
   ]
  },
  {
   "cell_type": "markdown",
   "id": "8fb74de5-ff11-4ee5-8181-842c792c8e81",
   "metadata": {},
   "source": []
  },
  {
   "cell_type": "code",
   "execution_count": null,
   "id": "1d1b073e-d856-4127-95d3-ae33a73c1107",
   "metadata": {},
   "outputs": [],
   "source": []
  },
  {
   "cell_type": "code",
   "execution_count": null,
   "id": "e21e7528-d1fd-4a67-9603-e50877ee5d30",
   "metadata": {},
   "outputs": [],
   "source": []
  },
  {
   "cell_type": "code",
   "execution_count": null,
   "id": "c6db6623-4cc8-4ba5-93ad-74a267c59a5f",
   "metadata": {},
   "outputs": [],
   "source": []
  },
  {
   "cell_type": "code",
   "execution_count": null,
   "id": "d8dd1862-b7aa-4e3e-852a-889afa44e728",
   "metadata": {},
   "outputs": [],
   "source": []
  },
  {
   "cell_type": "code",
   "execution_count": null,
   "id": "c438ce32-7e3e-4667-bf68-44badafe8dd3",
   "metadata": {},
   "outputs": [],
   "source": []
  },
  {
   "cell_type": "code",
   "execution_count": null,
   "id": "36b937ea-6cdc-4d99-9ba4-d83cd538d8bc",
   "metadata": {},
   "outputs": [],
   "source": []
  },
  {
   "cell_type": "code",
   "execution_count": null,
   "id": "31e48fe9-4222-40d7-8f33-bd125f4e76f8",
   "metadata": {},
   "outputs": [],
   "source": []
  }
 ],
 "metadata": {
  "kernelspec": {
   "display_name": "Python 3 (ipykernel)",
   "language": "python",
   "name": "python3"
  },
  "language_info": {
   "codemirror_mode": {
    "name": "ipython",
    "version": 3
   },
   "file_extension": ".py",
   "mimetype": "text/x-python",
   "name": "python",
   "nbconvert_exporter": "python",
   "pygments_lexer": "ipython3",
   "version": "3.11.7"
  }
 },
 "nbformat": 4,
 "nbformat_minor": 5
}
